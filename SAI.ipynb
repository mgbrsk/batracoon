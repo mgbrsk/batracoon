{
 "cells": [
  {
   "cell_type": "markdown",
   "id": "stupid-mathematics",
   "metadata": {
    "toc": true
   },
   "source": [
    "<h1>Table of Contents<span class=\"tocSkip\"></span></h1>\n",
    "<div class=\"toc\"><ul class=\"toc-item\"></ul></div>"
   ]
  },
  {
   "cell_type": "markdown",
   "id": "commercial-receptor",
   "metadata": {},
   "source": [
    "# Теория\n",
    "\n",
    "Итак. Ощущение что нужно идти от нейронного газа, попробовать свою реализацию.\n",
    "\n",
    "Начну с топологии на простой схеме с перцептронами.\n",
    "\n",
    "Коннекционизм? Вариант случайного распределения не то что хотелось бы. \n",
    "(?) Посмотреть максимальную длинну и количество связей в живом нейроне.\n",
    "\n",
    "\n",
    "Стандартному методу обратного распределения ошибки чего-то не хватает. Чего? \n",
    "Нужно ли учитывать как обновлялись веса ранее?\n",
    "\n",
    "Разные перцепторны под разные задачи? Скорее да, но часть задач явно можно сгруппировать.\n",
    "- приём\n",
    "- хранение\n",
    "- обработка\n",
    "- вывод\n",
    "\n",
    "Самоорганизующаяся карта Кохонена"
   ]
  },
  {
   "cell_type": "markdown",
   "id": "alien-penetration",
   "metadata": {
    "ExecuteTime": {
     "end_time": "2021-03-17T06:02:28.063092Z",
     "start_time": "2021-03-17T06:02:28.060100Z"
    }
   },
   "source": [
    "Задача стабилизации маятника.\n",
    "сделать мат модель. Начнём с более простого - есть пол, есть предмет с координатой\n",
    "дна, есть условная гравитация, которая всё притягивает к бесконечному полу, т.е. вниз."
   ]
  },
  {
   "cell_type": "code",
   "execution_count": 1,
   "id": "dense-genre",
   "metadata": {
    "ExecuteTime": {
     "end_time": "2021-03-17T13:22:53.091696Z",
     "start_time": "2021-03-17T13:22:48.046547Z"
    }
   },
   "outputs": [
    {
     "name": "stdout",
     "output_type": "stream",
     "text": [
      "x = 3, floor = 0, hit_status = False\n",
      "falling down...\n",
      "x = 2, floor = 0, hit_status = False\n",
      "falling down...\n",
      "x = 1, floor = 0, hit_status = False\n",
      "falling down...\n",
      "x = 0, floor = 0, hit_status = True\n",
      "x = 0, floor = 0, hit_status = True\n"
     ]
    },
    {
     "ename": "KeyboardInterrupt",
     "evalue": "",
     "output_type": "error",
     "traceback": [
      "\u001B[1;31m---------------------------------------------------------------------------\u001B[0m",
      "\u001B[1;31mKeyboardInterrupt\u001B[0m                         Traceback (most recent call last)",
      "\u001B[1;32m<ipython-input-1-f261b10d3511>\u001B[0m in \u001B[0;36m<module>\u001B[1;34m\u001B[0m\n\u001B[0;32m     30\u001B[0m \u001B[1;33m\u001B[0m\u001B[0m\n\u001B[0;32m     31\u001B[0m \u001B[1;33m\u001B[0m\u001B[0m\n\u001B[1;32m---> 32\u001B[1;33m \u001B[0mpendulum_trolley_model\u001B[0m\u001B[1;33m(\u001B[0m\u001B[1;36m3\u001B[0m\u001B[1;33m)\u001B[0m\u001B[1;33m\u001B[0m\u001B[1;33m\u001B[0m\u001B[0m\n\u001B[0m",
      "\u001B[1;32m<ipython-input-1-f261b10d3511>\u001B[0m in \u001B[0;36mpendulum_trolley_model\u001B[1;34m(x)\u001B[0m\n\u001B[0;32m     27\u001B[0m             \u001B[0mprint\u001B[0m\u001B[1;33m(\u001B[0m\u001B[1;34m'falling down...'\u001B[0m\u001B[1;33m)\u001B[0m\u001B[1;33m\u001B[0m\u001B[1;33m\u001B[0m\u001B[0m\n\u001B[0;32m     28\u001B[0m             \u001B[0mx\u001B[0m \u001B[1;33m-=\u001B[0m \u001B[1;36m1\u001B[0m\u001B[1;33m\u001B[0m\u001B[1;33m\u001B[0m\u001B[0m\n\u001B[1;32m---> 29\u001B[1;33m         \u001B[0mtime\u001B[0m\u001B[1;33m.\u001B[0m\u001B[0msleep\u001B[0m\u001B[1;33m(\u001B[0m\u001B[1;36m1\u001B[0m\u001B[1;33m)\u001B[0m\u001B[1;33m\u001B[0m\u001B[1;33m\u001B[0m\u001B[0m\n\u001B[0m\u001B[0;32m     30\u001B[0m \u001B[1;33m\u001B[0m\u001B[0m\n\u001B[0;32m     31\u001B[0m \u001B[1;33m\u001B[0m\u001B[0m\n",
      "\u001B[1;31mKeyboardInterrupt\u001B[0m: "
     ]
    }
   ],
   "source": [
    "import time\n",
    "\n",
    "def pendulum_trolley_model(x):\n",
    "    \"\"\"WIP Модель тележки с маятником. \n",
    "    \n",
    "    Args:\n",
    "        x (int): начальная координата нижней части тележки.\n",
    "    \"\"\"\n",
    "    def hit_floor(x, floor_level):\n",
    "        \"\"\"Проверка, столкнулся ли предмет с полом.\n",
    "        \n",
    "        \"\"\"\n",
    "        if x == floor_level:\n",
    "            hit_status = True\n",
    "        else:\n",
    "            hit_status = False\n",
    "        return hit_status\n",
    "    # Уровень пола\n",
    "    floor_level = 0\n",
    "    while True:\n",
    "        hit_status = hit_floor(x, floor_level)\n",
    "        print(f'x = {x}, floor = {floor_level}, hit_status = {hit_status}')\n",
    "        \n",
    "        # Продолжаем падать вниз, пока не столкнёмся с полом. \n",
    "        # Если упали то лежим и ничего не делаем.\n",
    "        if not hit_status:\n",
    "            print('falling down...')\n",
    "            x -= 1\n",
    "        time.sleep(1)\n",
    "    \n",
    "\n",
    "pendulum_trolley_model(3)"
   ]
  },
  {
   "cell_type": "markdown",
   "id": "virtual-poverty",
   "metadata": {},
   "source": [
    "Вообще есть готовая модель маятника gym, но вот что я подумал - для начала\n",
    "лучше задачу максимально упростить, вот прямо совсем совсем просто сделать.\n",
    "Так что ещё хочу попробовать развить идею с кирпичиком. Сформулируем её так - \n",
    "Есть кирпичик на выступе, кирпичик можно толкать влево-вправо. справа он упирается в \n",
    "стену, слева падает на пол. Задача - уронить кирпичик на пол.\n",
    "* добавить стол\n",
    "* запретить кирпичику проникать сквозь предметы (ака \"вы сломали кирпичик, живите в этом проклятом мире).\n",
    "\n",
    "Почитал по поводу газа - идея вроде хорошая но больше к классическим методам и без\n",
    "кластеров. Но вообще почему бы и нет. "
   ]
  },
  {
   "cell_type": "code",
   "execution_count": null,
   "id": "sound-notebook",
   "metadata": {},
   "outputs": [],
   "source": [
    "# не будем использовать неготовую модель. Будем использовать готовую модель.\n"
   ]
  },
  {
   "cell_type": "markdown",
   "id": "logical-nothing",
   "metadata": {},
   "source": [
    "Начал читать методичку саши по мозгу. Считаю это достойно коммита.\n",
    "\n",
    "https://core.ac.uk/download/pdf/287487629.pdf\n",
    "\n",
    "Первое впечатление - магниевый дед.\n",
    "\n",
    "Дрейф уровня возбуждения? Должен быть\n",
    "\n",
    "Ранее думал об отказе от эпох, но они нужны, подкрепление на стартовом этапе генерации универсальности необходимо.\n",
    "\n",
    "клетка -> ребёнок 37-40 эпох"
   ]
  },
  {
   "cell_type": "code",
   "execution_count": 3,
   "id": "wrong-picking",
   "metadata": {
    "ExecuteTime": {
     "end_time": "2021-04-01T07:00:54.337673Z",
     "start_time": "2021-04-01T07:00:54.276660Z"
    }
   },
   "outputs": [
    {
     "name": "stdout",
     "output_type": "stream",
     "text": [
      "68/120\n",
      "58/120\n",
      "58/120\n",
      "64/120\n",
      "54/120\n",
      "61/120\n",
      "55/120\n",
      "63/120\n",
      "61/120\n",
      "62/120\n"
     ]
    }
   ],
   "source": [
    "# Посмотрим чем занимался Александр.\n",
    "\n",
    "import simple_v2"
   ]
  },
  {
   "cell_type": "markdown",
   "source": [
    "Эта часть будет про другую модель, упростим ещё больше, до цифр на входе и ожидания цифр на выходе."
   ],
   "metadata": {
    "collapsed": false
   }
  },
  {
   "cell_type": "markdown",
   "id": "assumed-genealogy",
   "metadata": {},
   "source": []
  },
  {
   "cell_type": "code",
   "execution_count": null,
   "id": "neither-adoption",
   "metadata": {},
   "outputs": [],
   "source": []
  }
 ],
 "metadata": {
  "kernelspec": {
   "display_name": "batracon",
   "language": "python",
   "name": "batracon"
  },
  "language_info": {
   "codemirror_mode": {
    "name": "ipython",
    "version": 3
   },
   "file_extension": ".py",
   "mimetype": "text/x-python",
   "name": "python",
   "nbconvert_exporter": "python",
   "pygments_lexer": "ipython3",
   "version": "3.6.10"
  },
  "toc": {
   "base_numbering": 1,
   "nav_menu": {},
   "number_sections": true,
   "sideBar": true,
   "skip_h1_title": true,
   "title_cell": "Table of Contents",
   "title_sidebar": "Contents",
   "toc_cell": true,
   "toc_position": {},
   "toc_section_display": true,
   "toc_window_display": false
  }
 },
 "nbformat": 4,
 "nbformat_minor": 5
}