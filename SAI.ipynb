{
 "cells": [
  {
   "cell_type": "markdown",
   "id": "secondary-carroll",
   "metadata": {
    "toc": true
   },
   "source": [
    "<h1>Table of Contents<span class=\"tocSkip\"></span></h1>\n",
    "<div class=\"toc\"><ul class=\"toc-item\"></ul></div>"
   ]
  },
  {
   "cell_type": "markdown",
   "id": "olive-abraham",
   "metadata": {},
   "source": [
    "# Теория\n",
    "\n",
    "Итак. Ощущение что нужно идти от нейронного газа, попробовать свою реализацию.\n",
    "\n",
    "Начну с топологии на простой схеме с перцептронами.\n",
    "\n",
    "Коннекционизм? Вариант случайного распределения не то что хотелось бы. \n",
    "(?) Посмотреть максимальную длинну и количество связей в живом нейроне.\n",
    "\n",
    "\n",
    "Стандартному методу обратного распределения ошибки чего-то не хватает. Чего? \n",
    "Нужно ли учитывать как обновлялись веса ранее?\n",
    "\n",
    "Разные перцепторны под разные задачи? Скорее да, но часть задач явно можно сгруппировать.\n",
    "- приём\n",
    "- хранение\n",
    "- обработка\n",
    "- вывод\n",
    "\n",
    "Самоорганизующаяся карта Кохонена"
   ]
  },
  {
   "cell_type": "code",
   "execution_count": null,
   "id": "julian-rendering",
   "metadata": {},
   "outputs": [],
   "source": []
  }
 ],
 "metadata": {
  "kernelspec": {
   "display_name": "PyCharm (u-net_charm)",
   "language": "python",
   "name": "pycharm-9e8618f7"
  },
  "language_info": {
   "codemirror_mode": {
    "name": "ipython",
    "version": 3
   },
   "file_extension": ".py",
   "mimetype": "text/x-python",
   "name": "python",
   "nbconvert_exporter": "python",
   "pygments_lexer": "ipython3",
   "version": "3.6.12"
  },
  "toc": {
   "base_numbering": 1,
   "nav_menu": {},
   "number_sections": true,
   "sideBar": true,
   "skip_h1_title": true,
   "title_cell": "Table of Contents",
   "title_sidebar": "Contents",
   "toc_cell": true,
   "toc_position": {},
   "toc_section_display": true,
   "toc_window_display": false
  }
 },
 "nbformat": 4,
 "nbformat_minor": 5
}
