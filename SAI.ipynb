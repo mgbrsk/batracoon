{
 "cells": [
  {
   "cell_type": "markdown",
   "id": "secondary-carroll",
   "metadata": {
    "toc": true
   },
   "source": [
    "<h1>Table of Contents<span class=\"tocSkip\"></span></h1>\n",
    "<div class=\"toc\"><ul class=\"toc-item\"></ul></div>"
   ]
  },
  {
   "cell_type": "markdown",
   "id": "olive-abraham",
   "metadata": {},
   "source": [
    "# Теория\n",
    "\n",
    "Итак. Ощущение что нужно идти от нейронного газа, попробовать свою реализацию.\n",
    "\n",
    "Начну с топологии на простой схеме с перцептронами.\n",
    "\n",
    "Коннекционизм? Вариант случайного распределения не то что хотелось бы. \n",
    "(?) Посмотреть максимальную длинну и количество связей в живом нейроне.\n",
    "\n",
    "\n",
    "Стандартному методу обратного распределения ошибки чего-то не хватает. Чего? \n",
    "Нужно ли учитывать как обновлялись веса ранее?\n",
    "\n",
    "Разные перцепторны под разные задачи? Скорее да, но часть задач явно можно сгруппировать.\n",
    "- приём\n",
    "- хранение\n",
    "- обработка\n",
    "- вывод\n",
    "\n",
    "Самоорганизующаяся карта Кохонена"
   ]
  },
  {
   "cell_type": "markdown",
   "id": "restricted-design",
   "metadata": {
    "ExecuteTime": {
     "end_time": "2021-03-17T06:02:28.063092Z",
     "start_time": "2021-03-17T06:02:28.060100Z"
    }
   },
   "source": [
    "Задача стабилизации маятника.\n",
    "сделать мат модель. Начнём с более простого - есть пол, есть предмет с координатой\n",
    "дна, есть условная гравитация, которая всё притягивает к бесконечному полу, т.е. вниз."
   ]
  },
  {
   "cell_type": "code",
   "execution_count": 15,
   "id": "fatal-administration",
   "metadata": {
    "ExecuteTime": {
     "end_time": "2021-03-17T06:23:23.455606Z",
     "start_time": "2021-03-17T06:23:11.446114Z"
    }
   },
   "outputs": [
    {
     "name": "stdout",
     "output_type": "stream",
     "text": [
      "x = -1, floor = 0, hit_status = False\n",
      "falling down...\n",
      "x = -2, floor = 0, hit_status = False\n",
      "falling down...\n",
      "x = -3, floor = 0, hit_status = False\n",
      "falling down...\n",
      "x = -4, floor = 0, hit_status = False\n",
      "falling down...\n",
      "x = -5, floor = 0, hit_status = False\n",
      "falling down...\n",
      "x = -6, floor = 0, hit_status = False\n",
      "falling down...\n",
      "x = -7, floor = 0, hit_status = False\n",
      "falling down...\n",
      "x = -8, floor = 0, hit_status = False\n",
      "falling down...\n",
      "x = -9, floor = 0, hit_status = False\n",
      "falling down...\n",
      "x = -10, floor = 0, hit_status = False\n",
      "falling down...\n",
      "x = -11, floor = 0, hit_status = False\n",
      "falling down...\n",
      "x = -12, floor = 0, hit_status = False\n",
      "falling down...\n"
     ]
    },
    {
     "ename": "KeyboardInterrupt",
     "evalue": "",
     "output_type": "error",
     "traceback": [
      "\u001b[1;31m---------------------------------------------------------------------------\u001b[0m",
      "\u001b[1;31mKeyboardInterrupt\u001b[0m                         Traceback (most recent call last)",
      "\u001b[1;32m<ipython-input-15-c17a49d6b9a3>\u001b[0m in \u001b[0;36m<module>\u001b[1;34m\u001b[0m\n\u001b[0;32m     30\u001b[0m \u001b[1;33m\u001b[0m\u001b[0m\n\u001b[0;32m     31\u001b[0m \u001b[1;33m\u001b[0m\u001b[0m\n\u001b[1;32m---> 32\u001b[1;33m \u001b[0mpendulum_trolley_model\u001b[0m\u001b[1;33m(\u001b[0m\u001b[1;33m-\u001b[0m\u001b[1;36m1\u001b[0m\u001b[1;33m)\u001b[0m\u001b[1;33m\u001b[0m\u001b[1;33m\u001b[0m\u001b[0m\n\u001b[0m",
      "\u001b[1;32m<ipython-input-15-c17a49d6b9a3>\u001b[0m in \u001b[0;36mpendulum_trolley_model\u001b[1;34m(x)\u001b[0m\n\u001b[0;32m     27\u001b[0m             \u001b[0mprint\u001b[0m\u001b[1;33m(\u001b[0m\u001b[1;34m'falling down...'\u001b[0m\u001b[1;33m)\u001b[0m\u001b[1;33m\u001b[0m\u001b[1;33m\u001b[0m\u001b[0m\n\u001b[0;32m     28\u001b[0m             \u001b[0mx\u001b[0m \u001b[1;33m-=\u001b[0m \u001b[1;36m1\u001b[0m\u001b[1;33m\u001b[0m\u001b[1;33m\u001b[0m\u001b[0m\n\u001b[1;32m---> 29\u001b[1;33m         \u001b[0mtime\u001b[0m\u001b[1;33m.\u001b[0m\u001b[0msleep\u001b[0m\u001b[1;33m(\u001b[0m\u001b[1;36m1\u001b[0m\u001b[1;33m)\u001b[0m\u001b[1;33m\u001b[0m\u001b[1;33m\u001b[0m\u001b[0m\n\u001b[0m\u001b[0;32m     30\u001b[0m \u001b[1;33m\u001b[0m\u001b[0m\n\u001b[0;32m     31\u001b[0m \u001b[1;33m\u001b[0m\u001b[0m\n",
      "\u001b[1;31mKeyboardInterrupt\u001b[0m: "
     ]
    }
   ],
   "source": [
    "import time\n",
    "\n",
    "def pendulum_trolley_model(x):\n",
    "    \"\"\"WIP Модель тележки с маятником. \n",
    "    \n",
    "    Args:\n",
    "        x (int): начальная координата нижней части тележки.\n",
    "    \"\"\"\n",
    "    def hit_floor(x, floor_level):\n",
    "        \"\"\"Проверка, столкнулся ли предмет с полом.\n",
    "        \n",
    "        \"\"\"\n",
    "        if x == floor_level:\n",
    "            hit_status = True\n",
    "        else:\n",
    "            hit_status = False\n",
    "        return hit_status\n",
    "    # Уровень пола\n",
    "    floor_level = 0\n",
    "    while True:\n",
    "        hit_status = hit_floor(x, floor_level)\n",
    "        print(f'x = {x}, floor = {floor_level}, hit_status = {hit_status}')\n",
    "        \n",
    "        # Продолжаем падать вниз, пока не столкнёмся с полом. \n",
    "        # Если упали то лежим и ничего не делаем.\n",
    "        if not hit_status:\n",
    "            print('falling down...')\n",
    "            x -= 1\n",
    "        time.sleep(1)\n",
    "    \n",
    "\n",
    "pendulum_trolley_model(-1)"
   ]
  }
 ],
 "metadata": {
  "kernelspec": {
   "display_name": "PyCharm (u-net_charm)",
   "language": "python",
   "name": "pycharm-9e8618f7"
  },
  "language_info": {
   "codemirror_mode": {
    "name": "ipython",
    "version": 3
   },
   "file_extension": ".py",
   "mimetype": "text/x-python",
   "name": "python",
   "nbconvert_exporter": "python",
   "pygments_lexer": "ipython3",
   "version": "3.6.12"
  },
  "toc": {
   "base_numbering": 1,
   "nav_menu": {},
   "number_sections": true,
   "sideBar": true,
   "skip_h1_title": true,
   "title_cell": "Table of Contents",
   "title_sidebar": "Contents",
   "toc_cell": true,
   "toc_position": {},
   "toc_section_display": true,
   "toc_window_display": false
  }
 },
 "nbformat": 4,
 "nbformat_minor": 5
}
