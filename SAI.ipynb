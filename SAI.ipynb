{
 "cells": [
  {
   "cell_type": "markdown",
   "id": "accepting-consortium",
   "metadata": {
    "toc": true
   },
   "source": [
    "<h1>Table of Contents<span class=\"tocSkip\"></span></h1>\n",
    "<div class=\"toc\"><ul class=\"toc-item\"></ul></div>"
   ]
  },
  {
   "cell_type": "markdown",
   "id": "valid-mozambique",
   "metadata": {},
   "source": [
    "# Теория\n",
    "\n",
    "Итак. Ощущение что нужно идти от нейронного газа, попробовать свою реализацию.\n",
    "\n",
    "Начну с топологии на простой схеме с перцептронами.\n",
    "\n",
    "Коннекционизм? Вариант случайного распределения не то что хотелось бы. \n",
    "(?) Посмотреть максимальную длинну и количество связей в живом нейроне.\n",
    "\n",
    "\n",
    "Стандартному методу обратного распределения ошибки чего-то не хватает. Чего? \n",
    "Нужно ли учитывать как обновлялись веса ранее?\n",
    "\n",
    "Разные перцепторны под разные задачи? Скорее да, но часть задач явно можно сгруппировать.\n",
    "- приём\n",
    "- хранение\n",
    "- обработка\n",
    "- вывод\n",
    "\n",
    "Самоорганизующаяся карта Кохонена"
   ]
  },
  {
   "cell_type": "markdown",
   "id": "chief-turner",
   "metadata": {
    "ExecuteTime": {
     "end_time": "2021-03-17T06:02:28.063092Z",
     "start_time": "2021-03-17T06:02:28.060100Z"
    }
   },
   "source": [
    "Задача стабилизации маятника.\n",
    "сделать мат модель. Начнём с более простого - есть пол, есть предмет с координатой\n",
    "дна, есть условная гравитация, которая всё притягивает к бесконечному полу, т.е. вниз."
   ]
  },
  {
   "cell_type": "code",
   "execution_count": 1,
   "id": "prompt-romance",
   "metadata": {
    "ExecuteTime": {
     "end_time": "2021-03-17T13:22:53.091696Z",
     "start_time": "2021-03-17T13:22:48.046547Z"
    }
   },
   "outputs": [
    {
     "name": "stdout",
     "output_type": "stream",
     "text": [
      "x = 3, floor = 0, hit_status = False\n",
      "falling down...\n",
      "x = 2, floor = 0, hit_status = False\n",
      "falling down...\n",
      "x = 1, floor = 0, hit_status = False\n",
      "falling down...\n",
      "x = 0, floor = 0, hit_status = True\n",
      "x = 0, floor = 0, hit_status = True\n"
     ]
    },
    {
     "ename": "KeyboardInterrupt",
     "evalue": "",
     "output_type": "error",
     "traceback": [
      "\u001b[1;31m---------------------------------------------------------------------------\u001b[0m",
      "\u001b[1;31mKeyboardInterrupt\u001b[0m                         Traceback (most recent call last)",
      "\u001b[1;32m<ipython-input-1-f261b10d3511>\u001b[0m in \u001b[0;36m<module>\u001b[1;34m\u001b[0m\n\u001b[0;32m     30\u001b[0m \u001b[1;33m\u001b[0m\u001b[0m\n\u001b[0;32m     31\u001b[0m \u001b[1;33m\u001b[0m\u001b[0m\n\u001b[1;32m---> 32\u001b[1;33m \u001b[0mpendulum_trolley_model\u001b[0m\u001b[1;33m(\u001b[0m\u001b[1;36m3\u001b[0m\u001b[1;33m)\u001b[0m\u001b[1;33m\u001b[0m\u001b[1;33m\u001b[0m\u001b[0m\n\u001b[0m",
      "\u001b[1;32m<ipython-input-1-f261b10d3511>\u001b[0m in \u001b[0;36mpendulum_trolley_model\u001b[1;34m(x)\u001b[0m\n\u001b[0;32m     27\u001b[0m             \u001b[0mprint\u001b[0m\u001b[1;33m(\u001b[0m\u001b[1;34m'falling down...'\u001b[0m\u001b[1;33m)\u001b[0m\u001b[1;33m\u001b[0m\u001b[1;33m\u001b[0m\u001b[0m\n\u001b[0;32m     28\u001b[0m             \u001b[0mx\u001b[0m \u001b[1;33m-=\u001b[0m \u001b[1;36m1\u001b[0m\u001b[1;33m\u001b[0m\u001b[1;33m\u001b[0m\u001b[0m\n\u001b[1;32m---> 29\u001b[1;33m         \u001b[0mtime\u001b[0m\u001b[1;33m.\u001b[0m\u001b[0msleep\u001b[0m\u001b[1;33m(\u001b[0m\u001b[1;36m1\u001b[0m\u001b[1;33m)\u001b[0m\u001b[1;33m\u001b[0m\u001b[1;33m\u001b[0m\u001b[0m\n\u001b[0m\u001b[0;32m     30\u001b[0m \u001b[1;33m\u001b[0m\u001b[0m\n\u001b[0;32m     31\u001b[0m \u001b[1;33m\u001b[0m\u001b[0m\n",
      "\u001b[1;31mKeyboardInterrupt\u001b[0m: "
     ]
    }
   ],
   "source": [
    "import time\n",
    "\n",
    "def pendulum_trolley_model(x):\n",
    "    \"\"\"WIP Модель тележки с маятником. \n",
    "    \n",
    "    Args:\n",
    "        x (int): начальная координата нижней части тележки.\n",
    "    \"\"\"\n",
    "    def hit_floor(x, floor_level):\n",
    "        \"\"\"Проверка, столкнулся ли предмет с полом.\n",
    "        \n",
    "        \"\"\"\n",
    "        if x == floor_level:\n",
    "            hit_status = True\n",
    "        else:\n",
    "            hit_status = False\n",
    "        return hit_status\n",
    "    # Уровень пола\n",
    "    floor_level = 0\n",
    "    while True:\n",
    "        hit_status = hit_floor(x, floor_level)\n",
    "        print(f'x = {x}, floor = {floor_level}, hit_status = {hit_status}')\n",
    "        \n",
    "        # Продолжаем падать вниз, пока не столкнёмся с полом. \n",
    "        # Если упали то лежим и ничего не делаем.\n",
    "        if not hit_status:\n",
    "            print('falling down...')\n",
    "            x -= 1\n",
    "        time.sleep(1)\n",
    "    \n",
    "\n",
    "pendulum_trolley_model(3)"
   ]
  },
  {
   "cell_type": "markdown",
   "id": "nasty-scope",
   "metadata": {},
   "source": [
    "Вообще есть готовая модель маятника gym, но вот что я подумал - для начала\n",
    "лучше задачу максимально упростить, вот прямо совсем совсем просто сделать.\n",
    "Так что ещё хочу попробовать развить идею с кирпичиком. Сформулируем её так - \n",
    "Есть кирпичик на выступе, кирпичик можно толкать влево-вправо. справа он упирается в \n",
    "стену, слева падает на пол. Задача - уронить кирпичик на пол.\n",
    "* добавить стол\n",
    "* запретить кирпичику проникать сквозь предметы (ака \"вы сломали кирпичик, живите в этом проклятом мире).\n",
    "\n",
    "Почитал по поводу газа - идея вроде хорошая но больше к классическим методам и без\n",
    "кластеров. Но вообще почему бы и нет. "
   ]
  },
  {
   "cell_type": "code",
   "execution_count": null,
   "id": "twenty-country",
   "metadata": {},
   "outputs": [],
   "source": [
    "# не будем использовать неготовую модель. Будем использовать готовую модель.\n"
   ]
  },
  {
   "cell_type": "markdown",
   "id": "dutch-absolute",
   "metadata": {},
   "source": [
    "Начал читать методичку саши по мозгу. Считаю это достойно коммита.\n",
    "\n",
    "https://core.ac.uk/download/pdf/287487629.pdf\n",
    "\n",
    "Первое впечатление - магниевый дед.\n",
    "\n",
    "Дрейф уровня возбуждения? Должен быть\n",
    "\n",
    "Ранее думал об отказе от эпох, но они нужны, подкрепление на стартовом этапе генерации универсальности необходимо.\n",
    "\n",
    "клетка -> ребёнок 37-40 эпох\n",
    "\n",
    "Образование связей между двумя возбуждёнными нейронами в пересечении времени активации.\n",
    "угасание и синтез\n",
    "1.5е10 нейронов с 1.5е14 связей"
   ]
  },
  {
   "cell_type": "code",
   "execution_count": 3,
   "id": "compliant-omaha",
   "metadata": {
    "ExecuteTime": {
     "end_time": "2021-04-01T07:00:54.337673Z",
     "start_time": "2021-04-01T07:00:54.276660Z"
    }
   },
   "outputs": [
    {
     "name": "stdout",
     "output_type": "stream",
     "text": [
      "68/120\n",
      "58/120\n",
      "58/120\n",
      "64/120\n",
      "54/120\n",
      "61/120\n",
      "55/120\n",
      "63/120\n",
      "61/120\n",
      "62/120\n"
     ]
    }
   ],
   "source": [
    "# Посмотрим чем занимался Александр.\n",
    "\n",
    "import simple_v2"
   ]
  },
  {
   "cell_type": "markdown",
   "id": "protective-party",
   "metadata": {},
   "source": [
    "Эта часть будет про другую модель, упростим ещё больше, до цифр на входе и ожидания цифр на выходе."
   ]
  },
  {
   "cell_type": "markdown",
   "id": "affected-oxide",
   "metadata": {},
   "source": [
    "## Часть с генетическим алгоритмом моей вариации"
   ]
  },
  {
   "cell_type": "markdown",
   "id": "religious-scene",
   "metadata": {},
   "source": [
    "Хочу попробовать собрать самомасштабируемую структуру. Изначально принимаем что у нас \n",
    "есть сеть с 3 входами, 3 выходами и т.п., всё как у Василия. Внутри будем считать что изначально есть один нейрон, с которым может связаться вход путём случайного выбора нейрона связи, довольно простой выбор, учитывая что внутри 1 нейрон, внутренний нейрон может подать сигнал на случайное количество внешних связей сигнал активации, или на несколько. Затем добавляем нейрон, случайно его связываем или нет с входом, случайно связываем с выходом или нейроном внутри, смотрим стало ли лучше И повторям так до лучшего качества, наращивая сложность."
   ]
  },
  {
   "cell_type": "code",
   "execution_count": 5,
   "id": "enabling-cheese",
   "metadata": {},
   "outputs": [],
   "source": [
    "# Автоматическая перезагрузка py-файлов при изменении.\n",
    "%load_ext autoreload\n",
    "%autoreload 2\n",
    "\n",
    "import sim"
   ]
  },
  {
   "cell_type": "code",
   "execution_count": 9,
   "id": "designed-direction",
   "metadata": {},
   "outputs": [],
   "source": [
    "organism = sim.Entity()"
   ]
  },
  {
   "cell_type": "code",
   "execution_count": 10,
   "id": "studied-parker",
   "metadata": {},
   "outputs": [
    {
     "data": {
      "text/plain": [
       "True"
      ]
     },
     "execution_count": 10,
     "metadata": {},
     "output_type": "execute_result"
    }
   ],
   "source": [
    "organism.life_status"
   ]
  },
  {
   "cell_type": "code",
   "execution_count": 5,
   "id": "conscious-greenhouse",
   "metadata": {},
   "outputs": [
    {
     "name": "stdout",
     "output_type": "stream",
     "text": [
      "life_status = True\n",
      "life_status = True\n",
      "life_status = True\n",
      "life_status = True\n"
     ]
    },
    {
     "ename": "KeyboardInterrupt",
     "evalue": "",
     "output_type": "error",
     "traceback": [
      "\u001b[1;31m---------------------------------------------------------------------------\u001b[0m",
      "\u001b[1;31mKeyboardInterrupt\u001b[0m                         Traceback (most recent call last)",
      "\u001b[1;32m<ipython-input-5-2b41be2b5255>\u001b[0m in \u001b[0;36m<module>\u001b[1;34m\u001b[0m\n\u001b[1;32m----> 1\u001b[1;33m \u001b[0msim\u001b[0m\u001b[1;33m.\u001b[0m\u001b[0msimulation\u001b[0m\u001b[1;33m(\u001b[0m\u001b[0morganism\u001b[0m\u001b[1;33m)\u001b[0m\u001b[1;33m\u001b[0m\u001b[1;33m\u001b[0m\u001b[0m\n\u001b[0m",
      "\u001b[1;32m~\\batracoon\\sim.py\u001b[0m in \u001b[0;36msimulation\u001b[1;34m(organism)\u001b[0m\n\u001b[0;32m     38\u001b[0m     \u001b[1;32mwhile\u001b[0m \u001b[1;32mTrue\u001b[0m\u001b[1;33m:\u001b[0m\u001b[1;33m\u001b[0m\u001b[1;33m\u001b[0m\u001b[0m\n\u001b[0;32m     39\u001b[0m         \u001b[0mprint\u001b[0m\u001b[1;33m(\u001b[0m\u001b[1;34mf'life_status = {organism.life_status}'\u001b[0m\u001b[1;33m)\u001b[0m\u001b[1;33m\u001b[0m\u001b[1;33m\u001b[0m\u001b[0m\n\u001b[1;32m---> 40\u001b[1;33m         \u001b[0mtime\u001b[0m\u001b[1;33m.\u001b[0m\u001b[0msleep\u001b[0m\u001b[1;33m(\u001b[0m\u001b[1;36m1\u001b[0m\u001b[1;33m)\u001b[0m\u001b[1;33m\u001b[0m\u001b[1;33m\u001b[0m\u001b[0m\n\u001b[0m",
      "\u001b[1;31mKeyboardInterrupt\u001b[0m: "
     ]
    }
   ],
   "source": [
    "sim.simulation(organism)"
   ]
  },
  {
   "cell_type": "code",
   "execution_count": 6,
   "id": "adjusted-judge",
   "metadata": {},
   "outputs": [
    {
     "name": "stdout",
     "output_type": "stream",
     "text": [
      "not active\n",
      "1 0 0\n"
     ]
    }
   ],
   "source": [
    "# Обычный нейрон. Таких как этот нейрон много, но этот особенный.\n",
    "neuron = sim.Neuron(1)\n",
    "neuron.activate_output()\n",
    "print(neuron.number, neuron.signal_input, neuron.signal_output)"
   ]
  },
  {
   "cell_type": "code",
   "execution_count": 8,
   "id": "overall-gender",
   "metadata": {},
   "outputs": [
    {
     "name": "stdout",
     "output_type": "stream",
     "text": [
      "Active!\n",
      "1 0 1\n",
      "not active\n",
      "1 0 0\n"
     ]
    }
   ],
   "source": [
    "# Активируем этого парня.\n",
    "neuron.signal_input = 1\n",
    "neuron.activate_output()\n",
    "print(neuron.number, neuron.signal_input, neuron.signal_output)\n",
    "neuron.activate_output()\n",
    "print(neuron.number, neuron.signal_input, neuron.signal_output)"
   ]
  },
  {
   "cell_type": "code",
   "execution_count": 12,
   "id": "further-turner",
   "metadata": {},
   "outputs": [
    {
     "name": "stdin",
     "output_type": "stream",
     "text": [
      " 0\n"
     ]
    },
    {
     "name": "stdout",
     "output_type": "stream",
     "text": [
      "not active\n",
      "life_status = True\n"
     ]
    },
    {
     "name": "stdin",
     "output_type": "stream",
     "text": [
      " 0\n"
     ]
    },
    {
     "name": "stdout",
     "output_type": "stream",
     "text": [
      "not active\n",
      "life_status = True\n"
     ]
    },
    {
     "name": "stdin",
     "output_type": "stream",
     "text": [
      " 1\n"
     ]
    },
    {
     "name": "stdout",
     "output_type": "stream",
     "text": [
      "Active!\n",
      "life_status = True\n"
     ]
    }
   ],
   "source": [
    "count = 0\n",
    "neuron = sim.Neuron(1)\n",
    "while count < 3:\n",
    "    neuron.signal_input = int(input())\n",
    "    neuron.activate_output()\n",
    "    print(f'life_status = {organism.life_status}')\n",
    "    count += 1"
   ]
  },
  {
   "cell_type": "code",
   "execution_count": 54,
   "id": "meaningful-steering",
   "metadata": {},
   "outputs": [
    {
     "name": "stdout",
     "output_type": "stream",
     "text": [
      "q_q1(__1__)1~~\n",
      "x_x1(__1__)1--\n"
     ]
    }
   ],
   "source": [
    "# Генерируем экземпляр организма, убиваем его\n",
    "organism = sim.Entity(1, 1, 1)\n",
    "organism.structure_info()\n",
    "organism.kill()\n",
    "organism.structure_info()"
   ]
  },
  {
   "cell_type": "code",
   "execution_count": 127,
   "id": "theoretical-refrigerator",
   "metadata": {},
   "outputs": [],
   "source": [
    "# Прогон симуляции с взаимодействием.\n",
    "\n",
    "organism = sim.Entity(1, 1, 1)\n",
    "\n"
   ]
  },
  {
   "cell_type": "code",
   "execution_count": 130,
   "id": "coral-walker",
   "metadata": {},
   "outputs": [],
   "source": [
    "organism.affect(1)"
   ]
  },
  {
   "cell_type": "code",
   "execution_count": 131,
   "id": "golden-tyler",
   "metadata": {},
   "outputs": [
    {
     "name": "stdout",
     "output_type": "stream",
     "text": [
      "0 0\n",
      "0 0\n",
      "0 0\n"
     ]
    }
   ],
   "source": [
    "for n in organism.net:\n",
    "    print(n.signal_input, n.signal_output)"
   ]
  },
  {
   "cell_type": "code",
   "execution_count": 88,
   "id": "automatic-rental",
   "metadata": {},
   "outputs": [],
   "source": [
    "# Информация о нейроне:\n",
    "d = sim.Neuron(0)"
   ]
  },
  {
   "cell_type": "code",
   "execution_count": 89,
   "id": "beginning-georgia",
   "metadata": {},
   "outputs": [
    {
     "data": {
      "text/plain": [
       "[]"
      ]
     },
     "execution_count": 89,
     "metadata": {},
     "output_type": "execute_result"
    }
   ],
   "source": [
    "d.associated_with"
   ]
  },
  {
   "cell_type": "code",
   "execution_count": 97,
   "id": "organizational-radar",
   "metadata": {},
   "outputs": [],
   "source": [
    "d = [[1,3],[1,4],[1,7]]"
   ]
  },
  {
   "cell_type": "code",
   "execution_count": 104,
   "id": "persistent-nursing",
   "metadata": {},
   "outputs": [],
   "source": [
    "n1 = sim.Neuron(1)\n",
    "n2 = sim.Neuron(2)"
   ]
  },
  {
   "cell_type": "code",
   "execution_count": 108,
   "id": "spare-shopping",
   "metadata": {},
   "outputs": [],
   "source": [
    "net = [n1, n2]"
   ]
  },
  {
   "cell_type": "code",
   "execution_count": 110,
   "id": "hawaiian-voluntary",
   "metadata": {},
   "outputs": [
    {
     "data": {
      "text/plain": [
       "<sim.Neuron at 0x1be0c04ba90>"
      ]
     },
     "execution_count": 110,
     "metadata": {},
     "output_type": "execute_result"
    }
   ],
   "source": [
    "net[0]"
   ]
  },
  {
   "cell_type": "code",
   "execution_count": null,
   "id": "wooden-response",
   "metadata": {},
   "outputs": [],
   "source": []
  }
 ],
 "metadata": {
  "kernelspec": {
   "display_name": "batracon",
   "language": "python",
   "name": "batracon"
  },
  "language_info": {
   "codemirror_mode": {
    "name": "ipython",
    "version": 3
   },
   "file_extension": ".py",
   "mimetype": "text/x-python",
   "name": "python",
   "nbconvert_exporter": "python",
   "pygments_lexer": "ipython3",
   "version": "3.6.10"
  },
  "toc": {
   "base_numbering": 1,
   "nav_menu": {},
   "number_sections": true,
   "sideBar": true,
   "skip_h1_title": true,
   "title_cell": "Table of Contents",
   "title_sidebar": "Contents",
   "toc_cell": true,
   "toc_position": {},
   "toc_section_display": true,
   "toc_window_display": false
  }
 },
 "nbformat": 4,
 "nbformat_minor": 5
}
