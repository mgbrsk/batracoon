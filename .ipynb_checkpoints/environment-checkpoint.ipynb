{
 "cells": [
  {
   "cell_type": "markdown",
   "metadata": {},
   "source": [
    "# ТЗ\n",
    "* В каждый момент времени t должны приходить несколько сигналов, то есть во времени эти сигналы должны выглядеть как список списков:\n",
    "\n",
    "  [\n",
    "      [0, 0, 0, 1],   # момент t1\n",
    "      [1, 1, 1, 1],   # момент t2\n",
    "      [0, 1, 0, 1],   # момент t3\n",
    "      [1, 0, 0, 0],   # момент t4\n",
    "      [1, 0, 1, 1],   # момент t5\n",
    "      [1, 1, 0, 0],   # момент t6\n",
    "      ....\n",
    "  ]\n",
    "* Типы комбинаций - 0, 0, 0, 1 - A; 0, 1, 0, 1 - B; 1, 1, 0, 0 - C и т. д.\n",
    "* Некоторым последовательностям комбинаций (ПК) соответствует правильный набор выходных сигналов, если происходит соответствие, то через несколько моментов времени возвращается награда. На некоторых ПК без правильной последовательности возвращается отрицательная награда. Если агент не предпринимает никаких действий, то генеральная последовательность ПК остается стандартной, если агент совершает какие то действия, то ПК может отклоняться от стандартной, и при одних и тех же действиях агента вызываются те же ПК (обезьяна лежит, ходит, срет - свет в комнате моргает зеленый и синий, обезьяна нажала кнопку - моргнул желтый и красный свет, затем опять зеленый и синий в цикле по стандарту). Длина правильных действий от длины ПК зависит, чем она дольше, тем больше награда, если частично угадали, то тоже получаем часть от награды"
   ]
  },
  {
   "cell_type": "code",
   "execution_count": 10,
   "metadata": {},
   "outputs": [],
   "source": [
    "# являюсь ли я настоящим погромистом, умеющим писать классы?\n",
    "# нет, но я могу стать им\n",
    "\n",
    "class Environment:\n",
    "    \n",
    "    '''\n",
    "    Base environment class.\n",
    "    Properties:\n",
    "        — alphabet (dict of key : tuple): all possible \"letters\" of signals;\n",
    "        — storage (dict of key : int, alphabet.keys must be equal to storage.keys): \n",
    "    '''\n",
    "    \n",
    "    def __init__(self, alphabet=dict(), storage=dict()):\n",
    "        self.alphabet = alphabet\n",
    "        self.storage = storage\n",
    "        \n",
    "    def get_alphabet(self):\n",
    "        return self.alphabet\n",
    "    \n",
    "    def get_storage(self):\n",
    "        return self.storage\n",
    "    \n",
    "#     def tick\n",
    "#     def reward"
   ]
  },
  {
   "cell_type": "code",
   "execution_count": 12,
   "metadata": {},
   "outputs": [
    {
     "data": {
      "text/plain": [
       "<__main__.Environment at 0x297aa7ee490>"
      ]
     },
     "execution_count": 12,
     "metadata": {},
     "output_type": "execute_result"
    }
   ],
   "source": [
    "env = Environment(alphabet=(1, 2))\n",
    "env"
   ]
  }
 ],
 "metadata": {
  "kernelspec": {
   "display_name": "Python 3",
   "language": "python",
   "name": "python3"
  },
  "language_info": {
   "codemirror_mode": {
    "name": "ipython",
    "version": 3
   },
   "file_extension": ".py",
   "mimetype": "text/x-python",
   "name": "python",
   "nbconvert_exporter": "python",
   "pygments_lexer": "ipython3",
   "version": "3.8.3"
  }
 },
 "nbformat": 4,
 "nbformat_minor": 4
}
